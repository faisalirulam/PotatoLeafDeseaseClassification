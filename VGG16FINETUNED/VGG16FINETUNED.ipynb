{
  "nbformat": 4,
  "nbformat_minor": 0,
  "metadata": {
    "colab": {
      "name": "VGG16FINETUNED.ipynb",
      "provenance": []
    },
    "kernelspec": {
      "name": "python3",
      "display_name": "Python 3"
    },
    "language_info": {
      "name": "python"
    },
    "accelerator": "GPU"
  },
  "cells": [
    {
      "cell_type": "code",
      "execution_count": null,
      "metadata": {
        "id": "ltvwsOfbqd8H"
      },
      "outputs": [],
      "source": [
        "import pickle \n",
        "import time\n",
        "import numpy as np\n",
        "import pandas as pd\n",
        "from keras.preprocessing import image\n",
        "import tensorflow as tf\n",
        "from keras.applications.vgg16 import preprocess_input, decode_predictions\n",
        "from keras.layers import Dense, Activation, Flatten, Dropout\n",
        "from keras.layers import merge, Input\n",
        "from keras.models import Model\n",
        "from keras.applications.vgg16 import VGG16\n",
        "from keras.utils import np_utils\n",
        "from tensorflow.keras.utils import to_categorical"
      ]
    },
    {
      "cell_type": "code",
      "source": [
        "pickle_in_features = open('/content/drive/MyDrive/pkl-files/features.pkl', 'rb')\n",
        "x = pickle.load(pickle_in_features)\n",
        "x = np.array(x, dtype=np.float64)\n",
        "\n",
        "pickle_in_labels = open('/content/drive/MyDrive/pkl-files/labels.pkl', 'rb')\n",
        "y = pickle.load(pickle_in_labels)\n",
        "y = np.array(y, dtype=np.int64)\n",
        "#y = to_categorical(y)"
      ],
      "metadata": {
        "id": "dnz-jncEq_zm"
      },
      "execution_count": null,
      "outputs": []
    },
    {
      "cell_type": "code",
      "source": [
        "print(len(x))\n",
        "print(len(y))"
      ],
      "metadata": {
        "colab": {
          "base_uri": "https://localhost:8080/"
        },
        "id": "jBuCTstarH4V",
        "outputId": "aba15000-c7d7-446f-a675-395b4aa6362c"
      },
      "execution_count": null,
      "outputs": [
        {
          "output_type": "stream",
          "name": "stdout",
          "text": [
            "3008\n",
            "3008\n"
          ]
        }
      ]
    },
    {
      "cell_type": "code",
      "source": [
        "print(x.shape)"
      ],
      "metadata": {
        "colab": {
          "base_uri": "https://localhost:8080/"
        },
        "id": "OLYDR_fVrUAp",
        "outputId": "44d49961-5505-41cc-e0ef-c7b99127a1f3"
      },
      "execution_count": null,
      "outputs": [
        {
          "output_type": "stream",
          "name": "stdout",
          "text": [
            "(3008, 224, 224, 3)\n"
          ]
        }
      ]
    },
    {
      "cell_type": "code",
      "source": [
        "print(y.shape)"
      ],
      "metadata": {
        "colab": {
          "base_uri": "https://localhost:8080/"
        },
        "id": "8rFMUvUTrWmJ",
        "outputId": "ed4cee5b-2799-4581-c51d-b95e1d74569b"
      },
      "execution_count": null,
      "outputs": [
        {
          "output_type": "stream",
          "name": "stdout",
          "text": [
            "(3008,)\n"
          ]
        }
      ]
    },
    {
      "cell_type": "code",
      "source": [
        "from sklearn.model_selection import train_test_split"
      ],
      "metadata": {
        "id": "BTPjhhTbrYgX"
      },
      "execution_count": null,
      "outputs": []
    },
    {
      "cell_type": "code",
      "source": [
        "x_train, x_test, y_train, y_test = train_test_split(x, y, train_size=0.7, random_state=2)"
      ],
      "metadata": {
        "id": "KZ-Jb9YMrcKv"
      },
      "execution_count": null,
      "outputs": []
    },
    {
      "cell_type": "code",
      "source": [
        "print(x_train.shape)\n",
        "print(y_train.shape)"
      ],
      "metadata": {
        "colab": {
          "base_uri": "https://localhost:8080/"
        },
        "id": "gAo2NcQGredW",
        "outputId": "3d776463-5f7e-49ef-e4d5-0a476edf8270"
      },
      "execution_count": null,
      "outputs": [
        {
          "output_type": "stream",
          "name": "stdout",
          "text": [
            "(2105, 224, 224, 3)\n",
            "(2105,)\n"
          ]
        }
      ]
    },
    {
      "cell_type": "code",
      "source": [
        "print(x_test.shape)\n",
        "print(y_test.shape)"
      ],
      "metadata": {
        "colab": {
          "base_uri": "https://localhost:8080/"
        },
        "id": "zYHQn3Kgrgu4",
        "outputId": "7e32ffca-99ff-4358-9f83-f19e3272ed04"
      },
      "execution_count": null,
      "outputs": [
        {
          "output_type": "stream",
          "name": "stdout",
          "text": [
            "(903, 224, 224, 3)\n",
            "(903,)\n"
          ]
        }
      ]
    },
    {
      "cell_type": "code",
      "source": [
        "classes = 3\n",
        "\n",
        "image_input = Input(shape=(224, 224, 3))\n",
        "\n",
        "model = VGG16(input_tensor=image_input, include_top=True, weights='imagenet')\n",
        "\n",
        "\n",
        "last_layer = model.get_layer('fc2').output\n",
        "X = last_layer\n",
        "d1 = Dropout(0.3, name='dropout_layer_1')(X)\n",
        "out = Dense(classes, activation='softmax', name='output')(d1)\n",
        "custom_vgg_model = Model(image_input, out)\n",
        "custom_vgg_model.summary()\n",
        "\n",
        "print(image_input.shape)"
      ],
      "metadata": {
        "colab": {
          "base_uri": "https://localhost:8080/"
        },
        "id": "rA4UdVX9rjGF",
        "outputId": "08039a55-35cf-4329-beaf-cb0461bd2ccf"
      },
      "execution_count": null,
      "outputs": [
        {
          "output_type": "stream",
          "name": "stdout",
          "text": [
            "Model: \"model\"\n",
            "_________________________________________________________________\n",
            " Layer (type)                Output Shape              Param #   \n",
            "=================================================================\n",
            " input_1 (InputLayer)        [(None, 224, 224, 3)]     0         \n",
            "                                                                 \n",
            " block1_conv1 (Conv2D)       (None, 224, 224, 64)      1792      \n",
            "                                                                 \n",
            " block1_conv2 (Conv2D)       (None, 224, 224, 64)      36928     \n",
            "                                                                 \n",
            " block1_pool (MaxPooling2D)  (None, 112, 112, 64)      0         \n",
            "                                                                 \n",
            " block2_conv1 (Conv2D)       (None, 112, 112, 128)     73856     \n",
            "                                                                 \n",
            " block2_conv2 (Conv2D)       (None, 112, 112, 128)     147584    \n",
            "                                                                 \n",
            " block2_pool (MaxPooling2D)  (None, 56, 56, 128)       0         \n",
            "                                                                 \n",
            " block3_conv1 (Conv2D)       (None, 56, 56, 256)       295168    \n",
            "                                                                 \n",
            " block3_conv2 (Conv2D)       (None, 56, 56, 256)       590080    \n",
            "                                                                 \n",
            " block3_conv3 (Conv2D)       (None, 56, 56, 256)       590080    \n",
            "                                                                 \n",
            " block3_pool (MaxPooling2D)  (None, 28, 28, 256)       0         \n",
            "                                                                 \n",
            " block4_conv1 (Conv2D)       (None, 28, 28, 512)       1180160   \n",
            "                                                                 \n",
            " block4_conv2 (Conv2D)       (None, 28, 28, 512)       2359808   \n",
            "                                                                 \n",
            " block4_conv3 (Conv2D)       (None, 28, 28, 512)       2359808   \n",
            "                                                                 \n",
            " block4_pool (MaxPooling2D)  (None, 14, 14, 512)       0         \n",
            "                                                                 \n",
            " block5_conv1 (Conv2D)       (None, 14, 14, 512)       2359808   \n",
            "                                                                 \n",
            " block5_conv2 (Conv2D)       (None, 14, 14, 512)       2359808   \n",
            "                                                                 \n",
            " block5_conv3 (Conv2D)       (None, 14, 14, 512)       2359808   \n",
            "                                                                 \n",
            " block5_pool (MaxPooling2D)  (None, 7, 7, 512)         0         \n",
            "                                                                 \n",
            " flatten (Flatten)           (None, 25088)             0         \n",
            "                                                                 \n",
            " fc1 (Dense)                 (None, 4096)              102764544 \n",
            "                                                                 \n",
            " fc2 (Dense)                 (None, 4096)              16781312  \n",
            "                                                                 \n",
            " dropout_layer_1 (Dropout)   (None, 4096)              0         \n",
            "                                                                 \n",
            " output (Dense)              (None, 3)                 12291     \n",
            "                                                                 \n",
            "=================================================================\n",
            "Total params: 134,272,835\n",
            "Trainable params: 134,272,835\n",
            "Non-trainable params: 0\n",
            "_________________________________________________________________\n",
            "(None, 224, 224, 3)\n"
          ]
        }
      ]
    },
    {
      "cell_type": "code",
      "source": [
        "for layer in custom_vgg_model.layers[:-1]:\n",
        "    layer.trainable = False\n",
        "\n",
        "custom_vgg_model.compile(loss='sparse_categorical_crossentropy',optimizer='adam',metrics=['accuracy'])\n",
        "\n",
        "t = time.time()\n",
        "\n",
        "hist = custom_vgg_model.fit(x_train, y_train, batch_size=32, epochs=35, verbose=2, validation_split=0.2)\n",
        "\n",
        "print('Training time: %s' % (t - time.time()))\n"
      ],
      "metadata": {
        "colab": {
          "base_uri": "https://localhost:8080/"
        },
        "id": "Z21rx_YOrmuX",
        "outputId": "df81395b-8128-474f-d928-570c1c2aae85"
      },
      "execution_count": null,
      "outputs": [
        {
          "output_type": "stream",
          "name": "stdout",
          "text": [
            "Epoch 1/35\n",
            "53/53 - 36s - loss: 0.9062 - accuracy: 0.5814 - val_loss: 0.4774 - val_accuracy: 0.8717 - 36s/epoch - 670ms/step\n",
            "Epoch 2/35\n",
            "53/53 - 18s - loss: 0.5318 - accuracy: 0.7809 - val_loss: 0.3528 - val_accuracy: 0.8884 - 18s/epoch - 347ms/step\n",
            "Epoch 3/35\n",
            "53/53 - 19s - loss: 0.4191 - accuracy: 0.8450 - val_loss: 0.2818 - val_accuracy: 0.9216 - 19s/epoch - 349ms/step\n",
            "Epoch 4/35\n",
            "53/53 - 19s - loss: 0.3380 - accuracy: 0.8753 - val_loss: 0.2608 - val_accuracy: 0.9287 - 19s/epoch - 350ms/step\n",
            "Epoch 5/35\n",
            "53/53 - 19s - loss: 0.2932 - accuracy: 0.8913 - val_loss: 0.3142 - val_accuracy: 0.8741 - 19s/epoch - 350ms/step\n",
            "Epoch 6/35\n",
            "53/53 - 19s - loss: 0.2797 - accuracy: 0.8931 - val_loss: 0.2145 - val_accuracy: 0.9359 - 19s/epoch - 350ms/step\n",
            "Epoch 7/35\n",
            "53/53 - 19s - loss: 0.2477 - accuracy: 0.9109 - val_loss: 0.1923 - val_accuracy: 0.9406 - 19s/epoch - 351ms/step\n",
            "Epoch 8/35\n",
            "53/53 - 20s - loss: 0.2347 - accuracy: 0.9133 - val_loss: 0.2047 - val_accuracy: 0.9311 - 20s/epoch - 377ms/step\n",
            "Epoch 9/35\n",
            "53/53 - 20s - loss: 0.2054 - accuracy: 0.9240 - val_loss: 0.1929 - val_accuracy: 0.9264 - 20s/epoch - 376ms/step\n",
            "Epoch 10/35\n",
            "53/53 - 19s - loss: 0.2078 - accuracy: 0.9198 - val_loss: 0.1946 - val_accuracy: 0.9311 - 19s/epoch - 350ms/step\n",
            "Epoch 11/35\n",
            "53/53 - 19s - loss: 0.1915 - accuracy: 0.9341 - val_loss: 0.1764 - val_accuracy: 0.9359 - 19s/epoch - 350ms/step\n",
            "Epoch 12/35\n",
            "53/53 - 19s - loss: 0.1836 - accuracy: 0.9341 - val_loss: 0.1651 - val_accuracy: 0.9430 - 19s/epoch - 351ms/step\n",
            "Epoch 13/35\n",
            "53/53 - 19s - loss: 0.1802 - accuracy: 0.9335 - val_loss: 0.1445 - val_accuracy: 0.9525 - 19s/epoch - 350ms/step\n",
            "Epoch 14/35\n",
            "53/53 - 19s - loss: 0.1720 - accuracy: 0.9335 - val_loss: 0.3163 - val_accuracy: 0.8575 - 19s/epoch - 350ms/step\n",
            "Epoch 15/35\n",
            "53/53 - 19s - loss: 0.1670 - accuracy: 0.9359 - val_loss: 0.1380 - val_accuracy: 0.9620 - 19s/epoch - 351ms/step\n",
            "Epoch 16/35\n",
            "53/53 - 19s - loss: 0.1658 - accuracy: 0.9347 - val_loss: 0.1437 - val_accuracy: 0.9596 - 19s/epoch - 351ms/step\n",
            "Epoch 17/35\n",
            "53/53 - 19s - loss: 0.1650 - accuracy: 0.9442 - val_loss: 0.1351 - val_accuracy: 0.9667 - 19s/epoch - 350ms/step\n",
            "Epoch 18/35\n",
            "53/53 - 19s - loss: 0.1438 - accuracy: 0.9406 - val_loss: 0.1793 - val_accuracy: 0.9287 - 19s/epoch - 350ms/step\n",
            "Epoch 19/35\n",
            "53/53 - 19s - loss: 0.1562 - accuracy: 0.9376 - val_loss: 0.1473 - val_accuracy: 0.9406 - 19s/epoch - 350ms/step\n",
            "Epoch 20/35\n",
            "53/53 - 19s - loss: 0.1423 - accuracy: 0.9507 - val_loss: 0.1588 - val_accuracy: 0.9454 - 19s/epoch - 350ms/step\n",
            "Epoch 21/35\n",
            "53/53 - 19s - loss: 0.1353 - accuracy: 0.9507 - val_loss: 0.1311 - val_accuracy: 0.9525 - 19s/epoch - 350ms/step\n",
            "Epoch 22/35\n",
            "53/53 - 19s - loss: 0.1325 - accuracy: 0.9489 - val_loss: 0.1147 - val_accuracy: 0.9667 - 19s/epoch - 350ms/step\n",
            "Epoch 23/35\n",
            "53/53 - 19s - loss: 0.1329 - accuracy: 0.9513 - val_loss: 0.1274 - val_accuracy: 0.9572 - 19s/epoch - 350ms/step\n",
            "Epoch 24/35\n",
            "53/53 - 19s - loss: 0.1308 - accuracy: 0.9584 - val_loss: 0.1313 - val_accuracy: 0.9501 - 19s/epoch - 351ms/step\n",
            "Epoch 25/35\n",
            "53/53 - 20s - loss: 0.1289 - accuracy: 0.9549 - val_loss: 0.1774 - val_accuracy: 0.9240 - 20s/epoch - 377ms/step\n",
            "Epoch 26/35\n",
            "53/53 - 20s - loss: 0.1431 - accuracy: 0.9454 - val_loss: 0.1731 - val_accuracy: 0.9287 - 20s/epoch - 378ms/step\n",
            "Epoch 27/35\n",
            "53/53 - 19s - loss: 0.1398 - accuracy: 0.9561 - val_loss: 0.2344 - val_accuracy: 0.9097 - 19s/epoch - 353ms/step\n",
            "Epoch 28/35\n",
            "53/53 - 19s - loss: 0.1522 - accuracy: 0.9406 - val_loss: 0.1080 - val_accuracy: 0.9596 - 19s/epoch - 352ms/step\n",
            "Epoch 29/35\n",
            "53/53 - 19s - loss: 0.1136 - accuracy: 0.9590 - val_loss: 0.1141 - val_accuracy: 0.9572 - 19s/epoch - 352ms/step\n",
            "Epoch 30/35\n",
            "53/53 - 19s - loss: 0.1134 - accuracy: 0.9620 - val_loss: 0.1143 - val_accuracy: 0.9620 - 19s/epoch - 352ms/step\n",
            "Epoch 31/35\n",
            "53/53 - 19s - loss: 0.1186 - accuracy: 0.9596 - val_loss: 0.1133 - val_accuracy: 0.9644 - 19s/epoch - 352ms/step\n",
            "Epoch 32/35\n",
            "53/53 - 19s - loss: 0.1102 - accuracy: 0.9561 - val_loss: 0.1529 - val_accuracy: 0.9335 - 19s/epoch - 353ms/step\n",
            "Epoch 33/35\n",
            "53/53 - 19s - loss: 0.1214 - accuracy: 0.9507 - val_loss: 0.1254 - val_accuracy: 0.9644 - 19s/epoch - 353ms/step\n",
            "Epoch 34/35\n",
            "53/53 - 19s - loss: 0.1151 - accuracy: 0.9567 - val_loss: 0.1094 - val_accuracy: 0.9667 - 19s/epoch - 353ms/step\n",
            "Epoch 35/35\n",
            "53/53 - 19s - loss: 0.1137 - accuracy: 0.9590 - val_loss: 0.1631 - val_accuracy: 0.9359 - 19s/epoch - 353ms/step\n",
            "Training time: -675.8718466758728\n"
          ]
        }
      ]
    },
    {
      "cell_type": "code",
      "source": [
        "(loss, accuracy) = custom_vgg_model.evaluate(x_test, y_test , batch_size=10, verbose=2)\n",
        "\n",
        "print(\"[INFO] loss={:.4f}, accuracy: {:.4f}%\".format(loss,accuracy * 100))"
      ],
      "metadata": {
        "colab": {
          "base_uri": "https://localhost:8080/"
        },
        "id": "1Qz4ZYtYr0NA",
        "outputId": "a1ec4a7b-a948-4724-d315-6a60ada44be9"
      },
      "execution_count": null,
      "outputs": [
        {
          "output_type": "stream",
          "name": "stdout",
          "text": [
            "91/91 - 15s - loss: 0.1366 - accuracy: 0.9535 - 15s/epoch - 168ms/step\n",
            "[INFO] loss=0.1366, accuracy: 95.3488%\n"
          ]
        }
      ]
    },
    {
      "cell_type": "code",
      "source": [
        "print(hist.history.keys())"
      ],
      "metadata": {
        "colab": {
          "base_uri": "https://localhost:8080/"
        },
        "id": "XxbJjLo3vrL2",
        "outputId": "c44bd41f-7f0d-4070-dabf-d50e6c1a610c"
      },
      "execution_count": null,
      "outputs": [
        {
          "output_type": "stream",
          "name": "stdout",
          "text": [
            "dict_keys(['loss', 'accuracy', 'val_loss', 'val_accuracy'])\n"
          ]
        }
      ]
    },
    {
      "cell_type": "code",
      "source": [
        "import matplotlib.pyplot as plt\n",
        "\n",
        "train_loss = hist.history['loss']\n",
        "val_loss = hist.history['val_loss']\n",
        "train_acc = hist.history['accuracy']\n",
        "val_acc = hist.history['val_accuracy']\n",
        "xc = range(35)\n",
        "\n",
        "plt.figure(1,figsize=(7,5))\n",
        "plt.plot(xc,train_loss)\n",
        "plt.plot(xc,val_loss)\n",
        "plt.xlabel('num of Epochs')\n",
        "plt.ylabel('loss')\n",
        "plt.title('train_loss vs val_loss')\n",
        "plt.grid(True)\n",
        "plt.legend(['train','val'])\n",
        "plt.style.use(['ggplot'])\n",
        "\n",
        "plt.figure(2,figsize=(7,5))\n",
        "plt.plot(xc,train_acc)\n",
        "plt.plot(xc,val_acc)\n",
        "plt.xlabel('num of Epochs')\n",
        "plt.ylabel('accuracy')\n",
        "plt.title('train_acc vs val_acc')\n",
        "plt.grid(True)\n",
        "plt.legend(['train','val'],loc=4)\n",
        "plt.style.use(['classic'])"
      ],
      "metadata": {
        "colab": {
          "base_uri": "https://localhost:8080/",
          "height": 687
        },
        "id": "wM6UvseRvzxl",
        "outputId": "53989840-8dea-433d-e2e8-00d991a5ee81"
      },
      "execution_count": null,
      "outputs": [
        {
          "output_type": "display_data",
          "data": {
            "text/plain": [
              "<Figure size 504x360 with 1 Axes>"
            ],
            "image/png": "[encoded data removed]"
          },
          "metadata": {
            "needs_background": "light"
          }
        },
        {
          "output_type": "display_data",
          "data": {
            "text/plain": [
              "<Figure size 504x360 with 1 Axes>"
            ],
            "image/png": "[encoded data removed]"
          },
          "metadata": {}
        }
      ]
    },
    {
      "cell_type": "code",
      "source": [
        ""
      ],
      "metadata": {
        "id": "sEWrSgwBv2tL"
      },
      "execution_count": null,
      "outputs": []
    }
  ]
}