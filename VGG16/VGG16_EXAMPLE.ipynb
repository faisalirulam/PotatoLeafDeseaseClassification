{
  "nbformat": 4,
  "nbformat_minor": 0,
  "metadata": {
    "colab": {
      "name": "VGG16-EXAMPLE.ipynb",
      "provenance": []
    },
    "kernelspec": {
      "name": "python3",
      "display_name": "Python 3"
    },
    "language_info": {
      "name": "python"
    },
    "accelerator": "GPU"
  },
  "cells": [
    {
      "cell_type": "code",
      "execution_count": null,
      "metadata": {
        "id": "ypu0BQNsiGP6"
      },
      "outputs": [],
      "source": [
        "import pickle \n",
        "import time\n",
        "import numpy as np\n",
        "import pandas as pd\n",
        "from keras.preprocessing import image\n",
        "import tensorflow as tf\n",
        "from keras.applications.vgg16 import preprocess_input, decode_predictions\n",
        "from keras.layers import Dense, Activation, Flatten, Dropout\n",
        "from keras.layers import merge, Input\n",
        "from keras.models import Model\n",
        "from keras.applications.vgg16 import VGG16\n",
        "from keras.utils import np_utils\n",
        "from tensorflow.keras.utils import to_categorical"
      ]
    },
    {
      "cell_type": "code",
      "source": [
        "pickle_in_features = open('/content/drive/MyDrive/pkl-files/features.pkl', 'rb')\n",
        "x = pickle.load(pickle_in_features)\n",
        "x = np.array(x, dtype=np.float64)\n",
        "\n",
        "pickle_in_labels = open('/content/drive/MyDrive/pkl-files/labels.pkl', 'rb')\n",
        "y = pickle.load(pickle_in_labels)\n",
        "y = np.array(y, dtype=np.int64)\n",
        "#y = to_categorical(y)"
      ],
      "metadata": {
        "id": "jlsMqkeliSV0"
      },
      "execution_count": null,
      "outputs": []
    },
    {
      "cell_type": "code",
      "source": [
        "print(len(x))\n",
        "print(len(y))"
      ],
      "metadata": {
        "colab": {
          "base_uri": "https://localhost:8080/"
        },
        "id": "QXvuK8x-i3iG",
        "outputId": "e6aea088-18d0-47d1-c12c-4c06a225b16f"
      },
      "execution_count": null,
      "outputs": [
        {
          "output_type": "stream",
          "name": "stdout",
          "text": [
            "3008\n",
            "3008\n"
          ]
        }
      ]
    },
    {
      "cell_type": "code",
      "source": [
        "print(x.shape)"
      ],
      "metadata": {
        "colab": {
          "base_uri": "https://localhost:8080/"
        },
        "id": "Cr3W93Ysi_EE",
        "outputId": "eaa2bf4b-0445-4ab2-f0fa-eee6cfe34ea6"
      },
      "execution_count": null,
      "outputs": [
        {
          "output_type": "stream",
          "name": "stdout",
          "text": [
            "(3008, 224, 224, 3)\n"
          ]
        }
      ]
    },
    {
      "cell_type": "code",
      "source": [
        "print(y.shape)"
      ],
      "metadata": {
        "colab": {
          "base_uri": "https://localhost:8080/"
        },
        "id": "MCAe7Zmfi_2y",
        "outputId": "771645ac-f844-4816-ce12-1b3783dc1af2"
      },
      "execution_count": null,
      "outputs": [
        {
          "output_type": "stream",
          "name": "stdout",
          "text": [
            "(3008,)\n"
          ]
        }
      ]
    },
    {
      "cell_type": "code",
      "source": [
        "from sklearn.model_selection import train_test_split"
      ],
      "metadata": {
        "id": "dfyJa7aDjGM_"
      },
      "execution_count": null,
      "outputs": []
    },
    {
      "cell_type": "code",
      "source": [
        "x_train, x_test, y_train, y_test = train_test_split(x, y, train_size=0.7, random_state=2)"
      ],
      "metadata": {
        "id": "EKm9UqrvjG9p"
      },
      "execution_count": null,
      "outputs": []
    },
    {
      "cell_type": "code",
      "source": [
        "print(x_train.shape)\n",
        "print(y_train.shape)"
      ],
      "metadata": {
        "colab": {
          "base_uri": "https://localhost:8080/"
        },
        "id": "oNWPVl82jLJo",
        "outputId": "0bb7f7a7-8a47-4783-93e5-0b537ba82e33"
      },
      "execution_count": null,
      "outputs": [
        {
          "output_type": "stream",
          "name": "stdout",
          "text": [
            "(2105, 224, 224, 3)\n",
            "(2105,)\n"
          ]
        }
      ]
    },
    {
      "cell_type": "code",
      "source": [
        "print(x_test.shape)\n",
        "print(y_test.shape)"
      ],
      "metadata": {
        "colab": {
          "base_uri": "https://localhost:8080/"
        },
        "id": "eSB3DYBFjNfK",
        "outputId": "6725f953-820a-458e-b734-7480ff8ddf99"
      },
      "execution_count": null,
      "outputs": [
        {
          "output_type": "stream",
          "name": "stdout",
          "text": [
            "(903, 224, 224, 3)\n",
            "(903,)\n"
          ]
        }
      ]
    },
    {
      "cell_type": "code",
      "source": [
        "classes = 3\n",
        "\n",
        "image_input = Input(shape=(224, 224, 3))\n",
        "\n",
        "model = VGG16(input_tensor=image_input, include_top=True, weights='imagenet')\n",
        "\n",
        "\n",
        "last_layer = model.get_layer('fc2').output\n",
        "X = last_layer\n",
        "d1 = Dropout(0.3, name='dropout_layer_1')(X)\n",
        "out = Dense(classes, activation='softmax', name='output')(d1)\n",
        "custom_vgg_model = Model(image_input, out)\n",
        "custom_vgg_model.summary()\n",
        "\n",
        "print(image_input.shape)"
      ],
      "metadata": {
        "colab": {
          "base_uri": "https://localhost:8080/"
        },
        "id": "Pxi5j9BzjPtC",
        "outputId": "ac5a4b6a-cd18-4a22-dbcf-9ec52bbb5c47"
      },
      "execution_count": null,
      "outputs": [
        {
          "output_type": "stream",
          "name": "stdout",
          "text": [
            "Model: \"model\"\n",
            "_________________________________________________________________\n",
            " Layer (type)                Output Shape              Param #   \n",
            "=================================================================\n",
            " input_1 (InputLayer)        [(None, 224, 224, 3)]     0         \n",
            "                                                                 \n",
            " block1_conv1 (Conv2D)       (None, 224, 224, 64)      1792      \n",
            "                                                                 \n",
            " block1_conv2 (Conv2D)       (None, 224, 224, 64)      36928     \n",
            "                                                                 \n",
            " block1_pool (MaxPooling2D)  (None, 112, 112, 64)      0         \n",
            "                                                                 \n",
            " block2_conv1 (Conv2D)       (None, 112, 112, 128)     73856     \n",
            "                                                                 \n",
            " block2_conv2 (Conv2D)       (None, 112, 112, 128)     147584    \n",
            "                                                                 \n",
            " block2_pool (MaxPooling2D)  (None, 56, 56, 128)       0         \n",
            "                                                                 \n",
            " block3_conv1 (Conv2D)       (None, 56, 56, 256)       295168    \n",
            "                                                                 \n",
            " block3_conv2 (Conv2D)       (None, 56, 56, 256)       590080    \n",
            "                                                                 \n",
            " block3_conv3 (Conv2D)       (None, 56, 56, 256)       590080    \n",
            "                                                                 \n",
            " block3_pool (MaxPooling2D)  (None, 28, 28, 256)       0         \n",
            "                                                                 \n",
            " block4_conv1 (Conv2D)       (None, 28, 28, 512)       1180160   \n",
            "                                                                 \n",
            " block4_conv2 (Conv2D)       (None, 28, 28, 512)       2359808   \n",
            "                                                                 \n",
            " block4_conv3 (Conv2D)       (None, 28, 28, 512)       2359808   \n",
            "                                                                 \n",
            " block4_pool (MaxPooling2D)  (None, 14, 14, 512)       0         \n",
            "                                                                 \n",
            " block5_conv1 (Conv2D)       (None, 14, 14, 512)       2359808   \n",
            "                                                                 \n",
            " block5_conv2 (Conv2D)       (None, 14, 14, 512)       2359808   \n",
            "                                                                 \n",
            " block5_conv3 (Conv2D)       (None, 14, 14, 512)       2359808   \n",
            "                                                                 \n",
            " block5_pool (MaxPooling2D)  (None, 7, 7, 512)         0         \n",
            "                                                                 \n",
            " flatten (Flatten)           (None, 25088)             0         \n",
            "                                                                 \n",
            " fc1 (Dense)                 (None, 4096)              102764544 \n",
            "                                                                 \n",
            " fc2 (Dense)                 (None, 4096)              16781312  \n",
            "                                                                 \n",
            " dropout_layer_1 (Dropout)   (None, 4096)              0         \n",
            "                                                                 \n",
            " output (Dense)              (None, 3)                 12291     \n",
            "                                                                 \n",
            "=================================================================\n",
            "Total params: 134,272,835\n",
            "Trainable params: 134,272,835\n",
            "Non-trainable params: 0\n",
            "_________________________________________________________________\n",
            "(None, 224, 224, 3)\n"
          ]
        }
      ]
    },
    {
      "cell_type": "code",
      "source": [
        "for layer in custom_vgg_model.layers[:-1]:\n",
        "    layer.trainable = False\n",
        "\n",
        "custom_vgg_model.compile(loss='sparse_categorical_crossentropy',optimizer='rmsprop',metrics=['accuracy'])\n",
        "\n",
        "t = time.time()\n",
        "\n",
        "hist = custom_vgg_model.fit(x_train, y_train, batch_size=32, epochs=12, verbose=2, validation_split=0.2)\n",
        "\n",
        "print('Training time: %s' % (t - time.time()))\n"
      ],
      "metadata": {
        "colab": {
          "base_uri": "https://localhost:8080/"
        },
        "id": "gAmiiSvQjUAv",
        "outputId": "e2f9c744-64ec-4eee-8843-cc9d9f1887d1"
      },
      "execution_count": null,
      "outputs": [
        {
          "output_type": "stream",
          "name": "stdout",
          "text": [
            "Epoch 1/12\n",
            "53/53 - 37s - loss: 1.2237 - accuracy: 0.5238 - val_loss: 0.8224 - val_accuracy: 0.6532 - 37s/epoch - 701ms/step\n",
            "Epoch 2/12\n",
            "53/53 - 21s - loss: 0.7540 - accuracy: 0.6704 - val_loss: 0.3752 - val_accuracy: 0.8789 - 21s/epoch - 391ms/step\n",
            "Epoch 3/12\n",
            "53/53 - 20s - loss: 0.6005 - accuracy: 0.7607 - val_loss: 0.5305 - val_accuracy: 0.7838 - 20s/epoch - 369ms/step\n",
            "Epoch 4/12\n",
            "53/53 - 20s - loss: 0.4947 - accuracy: 0.7898 - val_loss: 0.2884 - val_accuracy: 0.8931 - 20s/epoch - 369ms/step\n",
            "Epoch 5/12\n",
            "53/53 - 20s - loss: 0.4544 - accuracy: 0.8165 - val_loss: 0.5049 - val_accuracy: 0.7886 - 20s/epoch - 369ms/step\n",
            "Epoch 6/12\n",
            "53/53 - 20s - loss: 0.3921 - accuracy: 0.8367 - val_loss: 0.2093 - val_accuracy: 0.9311 - 20s/epoch - 370ms/step\n",
            "Epoch 7/12\n",
            "53/53 - 20s - loss: 0.3645 - accuracy: 0.8599 - val_loss: 0.1904 - val_accuracy: 0.9359 - 20s/epoch - 370ms/step\n",
            "Epoch 8/12\n",
            "53/53 - 20s - loss: 0.3419 - accuracy: 0.8682 - val_loss: 0.2431 - val_accuracy: 0.9121 - 20s/epoch - 370ms/step\n",
            "Epoch 9/12\n",
            "53/53 - 20s - loss: 0.3174 - accuracy: 0.8777 - val_loss: 0.2260 - val_accuracy: 0.8979 - 20s/epoch - 370ms/step\n",
            "Epoch 10/12\n",
            "53/53 - 20s - loss: 0.3178 - accuracy: 0.8753 - val_loss: 0.2070 - val_accuracy: 0.9145 - 20s/epoch - 370ms/step\n",
            "Epoch 11/12\n",
            "53/53 - 20s - loss: 0.2825 - accuracy: 0.8931 - val_loss: 0.2066 - val_accuracy: 0.9192 - 20s/epoch - 369ms/step\n",
            "Epoch 12/12\n",
            "53/53 - 20s - loss: 0.2928 - accuracy: 0.8884 - val_loss: 0.1432 - val_accuracy: 0.9525 - 20s/epoch - 369ms/step\n",
            "Training time: -256.19289779663086\n"
          ]
        }
      ]
    },
    {
      "cell_type": "code",
      "source": [
        "(loss, accuracy) = custom_vgg_model.evaluate(x_test, y_test , batch_size=10, verbose=2)\n",
        "\n",
        "print(\"[INFO] loss={:.4f}, accuracy: {:.4f}%\".format(loss,accuracy * 100))"
      ],
      "metadata": {
        "colab": {
          "base_uri": "https://localhost:8080/"
        },
        "id": "hcCW47Q2j08y",
        "outputId": "adc17e2f-c7a5-472e-e418-33e5b8c27a51"
      },
      "execution_count": null,
      "outputs": [
        {
          "output_type": "stream",
          "name": "stdout",
          "text": [
            "91/91 - 16s - loss: 0.1666 - accuracy: 0.9446 - 16s/epoch - 174ms/step\n",
            "[INFO] loss=0.1666, accuracy: 94.4629%\n"
          ]
        }
      ]
    },
    {
      "cell_type": "code",
      "source": [
        "print(hist.history.keys())"
      ],
      "metadata": {
        "colab": {
          "base_uri": "https://localhost:8080/"
        },
        "id": "Neoticefna9Y",
        "outputId": "4222d3c2-6067-4d55-eacf-068617eca405"
      },
      "execution_count": null,
      "outputs": [
        {
          "output_type": "stream",
          "name": "stdout",
          "text": [
            "dict_keys(['loss', 'accuracy', 'val_loss', 'val_accuracy'])\n"
          ]
        }
      ]
    },
    {
      "cell_type": "code",
      "source": [
        "import matplotlib.pyplot as plt\n",
        "\n",
        "train_loss = hist.history['loss']\n",
        "val_loss = hist.history['val_loss']\n",
        "train_acc = hist.history['accuracy']\n",
        "val_acc = hist.history['val_accuracy']\n",
        "xc = range(12)\n",
        "\n",
        "plt.figure(1,figsize=(7,5))\n",
        "plt.plot(xc,train_loss)\n",
        "plt.plot(xc,val_loss)\n",
        "plt.xlabel('num of Epochs')\n",
        "plt.ylabel('loss')\n",
        "plt.title('train_loss vs val_loss')\n",
        "plt.grid(True)\n",
        "plt.legend(['train','val'])\n",
        "plt.style.use(['ggplot'])\n",
        "\n",
        "plt.figure(2,figsize=(7,5))\n",
        "plt.plot(xc,train_acc)\n",
        "plt.plot(xc,val_acc)\n",
        "plt.xlabel('num of Epochs')\n",
        "plt.ylabel('accuracy')\n",
        "plt.title('train_acc vs val_acc')\n",
        "plt.grid(True)\n",
        "plt.legend(['train','val'],loc=4)\n",
        "plt.style.use(['classic'])"
      ],
      "metadata": {
        "colab": {
          "base_uri": "https://localhost:8080/",
          "height": 687
        },
        "id": "IGNVFSQQnip-",
        "outputId": "fb483a5d-5758-4aa6-b457-c9504419e2fa"
      },
      "execution_count": null,
      "outputs": [
        {
          "output_type": "display_data",
          "data": {
            "text/plain": [
              "<Figure size 504x360 with 1 Axes>"
            ],
            "image/png": "[encoded data removed]"
          },
          "metadata": {
            "needs_background": "light"
          }
        },
        {
          "output_type": "display_data",
          "data": {
            "text/plain": [
              "<Figure size 504x360 with 1 Axes>"
            ],
            "image/png": "[encoded data removed]"
          },
          "metadata": {}
        }
      ]
    },
    {
      "cell_type": "code",
      "source": [
        ""
      ],
      "metadata": {
        "id": "rgIBO9rhnlA8"
      },
      "execution_count": null,
      "outputs": []
    }
  ]
}