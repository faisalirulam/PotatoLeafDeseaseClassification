{
  "nbformat": 4,
  "nbformat_minor": 0,
  "metadata": {
    "colab": {
      "name": "data augmentation.ipynb",
      "provenance": [],
      "collapsed_sections": []
    },
    "kernelspec": {
      "name": "python3",
      "display_name": "Python 3"
    },
    "language_info": {
      "name": "python"
    }
  },
  "cells": [
    {
      "cell_type": "code",
      "execution_count": 6,
      "metadata": {
        "id": "_bKFfrXvjk4r"
      },
      "outputs": [],
      "source": [
        "import os\n",
        "import cv2\n",
        "import keras\n",
        "import numpy as np\n",
        "import matplotlib.pyplot as plt\n",
        "from sklearn.utils import shuffle\n",
        "from tensorflow.keras.utils import to_categorical\n",
        "from keras.preprocessing.image import ImageDataGenerator, array_to_img, img_to_array, load_img\n",
        "import glob"
      ]
    },
    {
      "cell_type": "code",
      "source": [
        "datagen = ImageDataGenerator(rotation_range =15,\n",
        "                             width_shift_range =0.2,\n",
        "                             height_shift_range = 0.2,\n",
        "                             rescale = 1/255,\n",
        "                             shear_range= 0.2,\n",
        "                             zoom_range= 0.2,\n",
        "                             horizontal_flip= True,\n",
        "                             fill_mode= 'nearest')\n",
        "\n",
        "img_dir = \"/content/drive/MyDrive/PlantVillage/Dataset/Potato___healthy\" \n",
        "data_path = os.path.join(img_dir,'*jpg')\n",
        "files = glob.glob(data_path)\n",
        "data = []\n",
        "for f1 in files:\n",
        "    img = cv2.imread(f1)\n",
        "    data.append(img)\n",
        "    \n",
        "print(len(data))\n",
        "\n",
        "x = np.array(data)\n",
        "x = x.reshape(x.shape)\n",
        "\n",
        "i = 0\n",
        "\n",
        "for batch in datagen.flow (x,\n",
        "                           batch_size=32,\n",
        "                           save_to_dir ='/content/drive/MyDrive/PlantVillage/Dataset/Potato___healthy',\n",
        "                           save_prefix=\"a\",\n",
        "                           save_format='jpg'):\n",
        "  \n",
        "  i+=1\n",
        "  if i==33:\n",
        "    break\n"
      ],
      "metadata": {
        "colab": {
          "base_uri": "https://localhost:8080/",
          "height": 140
        },
        "id": "cekgJOh0lqW-",
        "outputId": "f0e6215a-104a-41d1-c83b-c397c27b546f"
      },
      "execution_count": 9,
      "outputs": [
        {
          "output_type": "execute_result",
          "data": {
            "text/plain": [
              "'\"\\ndatagen = ImageDataGenerator(rotation_range =15,\\n                             width_shift_range =0.2,\\n                             height_shift_range = 0.2,\\n                             rescale = 1/255,\\n                             shear_range= 0.2,\\n                             zoom_range= 0.2,\\n                             horizontal_flip= True,\\n                             fill_mode= \\'nearest\\')\\n\\nimg_dir = \"/content/drive/MyDrive/PlantVillage/Dataset/Potato___healthy\" \\ndata_path = os.path.join(img_dir,\\'*jpg\\')\\nfiles = glob.glob(data_path)\\ndata = []\\nfor f1 in files:\\n    img = cv2.imread(f1)\\n    data.append(img)\\n    \\nprint(len(data))\\n\\nx = np.array(data)\\nx = x.reshape(x.shape)\\n\\ni = 0\\n\\nfor batch in datagen.flow (x,\\n                           batch_size=32,\\n                           save_to_dir =\\'/content/drive/MyDrive/PlantVillage/Dataset/Potato___healthy\\',\\n                           save_prefix=\"a\",\\n                           save_format=\\'jpg\\'):\\n  \\n  i+=1\\n  if i==33:\\n    break\\n\\n'"
            ],
            "application/vnd.google.colaboratory.intrinsic+json": {
              "type": "string"
            }
          },
          "metadata": {},
          "execution_count": 9
        }
      ]
    },
    {
      "cell_type": "code",
      "source": [
        ""
      ],
      "metadata": {
        "id": "q_rlPCFNlJl8"
      },
      "execution_count": null,
      "outputs": []
    }
  ]
}