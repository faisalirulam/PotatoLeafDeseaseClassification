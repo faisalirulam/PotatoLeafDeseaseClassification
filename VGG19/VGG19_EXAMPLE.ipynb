{
  "nbformat": 4,
  "nbformat_minor": 0,
  "metadata": {
    "colab": {
      "name": "VGG19-EXAMPLE.ipynb",
      "provenance": []
    },
    "kernelspec": {
      "name": "python3",
      "display_name": "Python 3"
    },
    "language_info": {
      "name": "python"
    },
    "accelerator": "GPU"
  },
  "cells": [
    {
      "cell_type": "code",
      "execution_count": null,
      "metadata": {
        "id": "fZRBlBUzZJqa"
      },
      "outputs": [],
      "source": [
        "import pickle \n",
        "import time\n",
        "import numpy as np\n",
        "import pandas as pd\n",
        "from keras.preprocessing import image\n",
        "import tensorflow as tf\n",
        "from keras.applications.vgg19 import preprocess_input, decode_predictions\n",
        "from keras.layers import Dense, Activation, Flatten, Dropout\n",
        "from keras.layers import merge, Input\n",
        "from keras.models import Model\n",
        "from keras.applications.vgg19 import VGG19\n",
        "from keras.utils import np_utils\n",
        "from tensorflow.keras.utils import to_categorical"
      ]
    },
    {
      "cell_type": "code",
      "source": [
        "pickle_in_features = open('/content/drive/MyDrive/pkl-files/features.pkl', 'rb')\n",
        "x = pickle.load(pickle_in_features)\n",
        "x = np.array(x, dtype=np.float64)\n",
        "\n",
        "pickle_in_labels = open('/content/drive/MyDrive/pkl-files/labels.pkl', 'rb')\n",
        "y = pickle.load(pickle_in_labels)\n",
        "y = np.array(y, dtype=np.int64)\n",
        "#y = to_categorical(y)"
      ],
      "metadata": {
        "id": "o9fX7CC-ZQWd"
      },
      "execution_count": null,
      "outputs": []
    },
    {
      "cell_type": "code",
      "source": [
        "print(len(x))\n",
        "print(len(y))"
      ],
      "metadata": {
        "colab": {
          "base_uri": "https://localhost:8080/"
        },
        "id": "rSB8mVX0ZWqs",
        "outputId": "3516f42a-0def-49bd-cc52-d4124386547d"
      },
      "execution_count": null,
      "outputs": [
        {
          "output_type": "stream",
          "name": "stdout",
          "text": [
            "3008\n",
            "3008\n"
          ]
        }
      ]
    },
    {
      "cell_type": "code",
      "source": [
        "print(x.shape)"
      ],
      "metadata": {
        "colab": {
          "base_uri": "https://localhost:8080/"
        },
        "id": "_SOlKjSEZeyr",
        "outputId": "2e5744fe-9083-42ab-bb2f-61a225ac0f57"
      },
      "execution_count": null,
      "outputs": [
        {
          "output_type": "stream",
          "name": "stdout",
          "text": [
            "(3008, 224, 224, 3)\n"
          ]
        }
      ]
    },
    {
      "cell_type": "code",
      "source": [
        "print(y.shape)"
      ],
      "metadata": {
        "colab": {
          "base_uri": "https://localhost:8080/"
        },
        "id": "qUMgwDT4Zfhd",
        "outputId": "69dfb909-76fb-4af0-bd45-b9ae95c6878e"
      },
      "execution_count": null,
      "outputs": [
        {
          "output_type": "stream",
          "name": "stdout",
          "text": [
            "(3008,)\n"
          ]
        }
      ]
    },
    {
      "cell_type": "code",
      "source": [
        "from sklearn.model_selection import train_test_split"
      ],
      "metadata": {
        "id": "jw4yjYSbZhq1"
      },
      "execution_count": null,
      "outputs": []
    },
    {
      "cell_type": "code",
      "source": [
        "x_train, x_test, y_train, y_test = train_test_split(x,y, train_size=0.7, random_state=2)"
      ],
      "metadata": {
        "id": "VxTDwWvMZjwC"
      },
      "execution_count": null,
      "outputs": []
    },
    {
      "cell_type": "code",
      "source": [
        "print(x_train.shape)\n",
        "print(y_train.shape)"
      ],
      "metadata": {
        "colab": {
          "base_uri": "https://localhost:8080/"
        },
        "id": "PMbKA26uZnsX",
        "outputId": "c78b7ff8-256c-4f5a-f721-2c93a3528581"
      },
      "execution_count": null,
      "outputs": [
        {
          "output_type": "stream",
          "name": "stdout",
          "text": [
            "(2105, 224, 224, 3)\n",
            "(2105,)\n"
          ]
        }
      ]
    },
    {
      "cell_type": "code",
      "source": [
        "classes = 3\n",
        "\n",
        "image_input = Input(shape=(224, 224, 3))\n",
        "\n",
        "model = VGG19(input_tensor=image_input, include_top=True, weights='imagenet')\n",
        "\n",
        "last_layer = model.get_layer('fc2').output\n",
        "# x = Flatten(name='flatten')(last_layer)\n",
        "out = Dense(classes, activation='softmax', name='output')(last_layer)\n",
        "custom_vgg_model = Model(image_input, out)\n",
        "custom_vgg_model.summary()\n",
        "\n",
        "print(image_input.shape)"
      ],
      "metadata": {
        "colab": {
          "base_uri": "https://localhost:8080/"
        },
        "id": "f-C0pVU_ZpvI",
        "outputId": "93ade9fb-e738-45bd-9418-1ddfdd7065ff"
      },
      "execution_count": null,
      "outputs": [
        {
          "output_type": "stream",
          "name": "stdout",
          "text": [
            "Downloading data from https://storage.googleapis.com/tensorflow/keras-applications/vgg19/vgg19_weights_tf_dim_ordering_tf_kernels.h5\n",
            "574717952/574710816 [==============================] - 8s 0us/step\n",
            "574726144/574710816 [==============================] - 8s 0us/step\n",
            "Model: \"model\"\n",
            "_________________________________________________________________\n",
            " Layer (type)                Output Shape              Param #   \n",
            "=================================================================\n",
            " input_1 (InputLayer)        [(None, 224, 224, 3)]     0         \n",
            "                                                                 \n",
            " block1_conv1 (Conv2D)       (None, 224, 224, 64)      1792      \n",
            "                                                                 \n",
            " block1_conv2 (Conv2D)       (None, 224, 224, 64)      36928     \n",
            "                                                                 \n",
            " block1_pool (MaxPooling2D)  (None, 112, 112, 64)      0         \n",
            "                                                                 \n",
            " block2_conv1 (Conv2D)       (None, 112, 112, 128)     73856     \n",
            "                                                                 \n",
            " block2_conv2 (Conv2D)       (None, 112, 112, 128)     147584    \n",
            "                                                                 \n",
            " block2_pool (MaxPooling2D)  (None, 56, 56, 128)       0         \n",
            "                                                                 \n",
            " block3_conv1 (Conv2D)       (None, 56, 56, 256)       295168    \n",
            "                                                                 \n",
            " block3_conv2 (Conv2D)       (None, 56, 56, 256)       590080    \n",
            "                                                                 \n",
            " block3_conv3 (Conv2D)       (None, 56, 56, 256)       590080    \n",
            "                                                                 \n",
            " block3_conv4 (Conv2D)       (None, 56, 56, 256)       590080    \n",
            "                                                                 \n",
            " block3_pool (MaxPooling2D)  (None, 28, 28, 256)       0         \n",
            "                                                                 \n",
            " block4_conv1 (Conv2D)       (None, 28, 28, 512)       1180160   \n",
            "                                                                 \n",
            " block4_conv2 (Conv2D)       (None, 28, 28, 512)       2359808   \n",
            "                                                                 \n",
            " block4_conv3 (Conv2D)       (None, 28, 28, 512)       2359808   \n",
            "                                                                 \n",
            " block4_conv4 (Conv2D)       (None, 28, 28, 512)       2359808   \n",
            "                                                                 \n",
            " block4_pool (MaxPooling2D)  (None, 14, 14, 512)       0         \n",
            "                                                                 \n",
            " block5_conv1 (Conv2D)       (None, 14, 14, 512)       2359808   \n",
            "                                                                 \n",
            " block5_conv2 (Conv2D)       (None, 14, 14, 512)       2359808   \n",
            "                                                                 \n",
            " block5_conv3 (Conv2D)       (None, 14, 14, 512)       2359808   \n",
            "                                                                 \n",
            " block5_conv4 (Conv2D)       (None, 14, 14, 512)       2359808   \n",
            "                                                                 \n",
            " block5_pool (MaxPooling2D)  (None, 7, 7, 512)         0         \n",
            "                                                                 \n",
            " flatten (Flatten)           (None, 25088)             0         \n",
            "                                                                 \n",
            " fc1 (Dense)                 (None, 4096)              102764544 \n",
            "                                                                 \n",
            " fc2 (Dense)                 (None, 4096)              16781312  \n",
            "                                                                 \n",
            " output (Dense)              (None, 3)                 12291     \n",
            "                                                                 \n",
            "=================================================================\n",
            "Total params: 139,582,531\n",
            "Trainable params: 139,582,531\n",
            "Non-trainable params: 0\n",
            "_________________________________________________________________\n",
            "(None, 224, 224, 3)\n"
          ]
        }
      ]
    },
    {
      "cell_type": "code",
      "source": [
        "for layer in custom_vgg_model.layers[:-1]:\n",
        "    layer.trainable = False\n",
        "\n",
        "custom_vgg_model.compile(loss='sparse_categorical_crossentropy',optimizer='rmsprop',metrics=['accuracy'])\n",
        "\n",
        "t = time.time()\n",
        "\n",
        "hist = custom_vgg_model.fit(x_train, y_train, batch_size=32, epochs=20, verbose=2, validation_split=0.2)\n",
        "\n",
        "print('Training time: %s' % (t - time.time()))\n"
      ],
      "metadata": {
        "colab": {
          "base_uri": "https://localhost:8080/"
        },
        "id": "kg1IphozZsf2",
        "outputId": "b58ebad2-40a6-4d57-f265-3852a688d233"
      },
      "execution_count": null,
      "outputs": [
        {
          "output_type": "stream",
          "name": "stdout",
          "text": [
            "Epoch 1/20\n",
            "53/53 - 43s - loss: 1.2048 - accuracy: 0.5249 - val_loss: 0.6076 - val_accuracy: 0.8266 - 43s/epoch - 802ms/step\n",
            "Epoch 2/20\n",
            "53/53 - 23s - loss: 0.7428 - accuracy: 0.6752 - val_loss: 0.7202 - val_accuracy: 0.6603 - 23s/epoch - 428ms/step\n",
            "Epoch 3/20\n",
            "53/53 - 23s - loss: 0.6084 - accuracy: 0.7298 - val_loss: 0.4668 - val_accuracy: 0.7791 - 23s/epoch - 429ms/step\n",
            "Epoch 4/20\n",
            "53/53 - 23s - loss: 0.5318 - accuracy: 0.7797 - val_loss: 0.3772 - val_accuracy: 0.8432 - 23s/epoch - 428ms/step\n",
            "Epoch 5/20\n",
            "53/53 - 23s - loss: 0.4383 - accuracy: 0.8165 - val_loss: 0.3601 - val_accuracy: 0.8622 - 23s/epoch - 428ms/step\n",
            "Epoch 6/20\n",
            "53/53 - 23s - loss: 0.4457 - accuracy: 0.8195 - val_loss: 0.3860 - val_accuracy: 0.8409 - 23s/epoch - 428ms/step\n",
            "Epoch 7/20\n",
            "53/53 - 23s - loss: 0.3987 - accuracy: 0.8379 - val_loss: 0.7711 - val_accuracy: 0.6413 - 23s/epoch - 427ms/step\n",
            "Epoch 8/20\n",
            "53/53 - 23s - loss: 0.3892 - accuracy: 0.8432 - val_loss: 0.6327 - val_accuracy: 0.7197 - 23s/epoch - 427ms/step\n",
            "Epoch 9/20\n",
            "53/53 - 23s - loss: 0.3415 - accuracy: 0.8533 - val_loss: 0.2812 - val_accuracy: 0.8860 - 23s/epoch - 429ms/step\n",
            "Epoch 10/20\n",
            "53/53 - 23s - loss: 0.3493 - accuracy: 0.8700 - val_loss: 0.2084 - val_accuracy: 0.9264 - 23s/epoch - 428ms/step\n",
            "Epoch 11/20\n",
            "53/53 - 23s - loss: 0.2866 - accuracy: 0.8806 - val_loss: 0.1924 - val_accuracy: 0.9406 - 23s/epoch - 427ms/step\n",
            "Epoch 12/20\n",
            "53/53 - 23s - loss: 0.3174 - accuracy: 0.8735 - val_loss: 0.3033 - val_accuracy: 0.8622 - 23s/epoch - 427ms/step\n",
            "Epoch 13/20\n",
            "53/53 - 23s - loss: 0.2771 - accuracy: 0.8884 - val_loss: 0.2306 - val_accuracy: 0.9050 - 23s/epoch - 427ms/step\n",
            "Epoch 14/20\n",
            "53/53 - 23s - loss: 0.2809 - accuracy: 0.8818 - val_loss: 0.3984 - val_accuracy: 0.8147 - 23s/epoch - 427ms/step\n",
            "Epoch 15/20\n",
            "53/53 - 23s - loss: 0.2808 - accuracy: 0.8854 - val_loss: 0.1723 - val_accuracy: 0.9382 - 23s/epoch - 427ms/step\n",
            "Epoch 16/20\n",
            "53/53 - 23s - loss: 0.2340 - accuracy: 0.9103 - val_loss: 0.2520 - val_accuracy: 0.8907 - 23s/epoch - 438ms/step\n",
            "Epoch 17/20\n",
            "53/53 - 23s - loss: 0.2470 - accuracy: 0.9086 - val_loss: 0.1683 - val_accuracy: 0.9382 - 23s/epoch - 428ms/step\n",
            "Epoch 18/20\n",
            "53/53 - 23s - loss: 0.2474 - accuracy: 0.9008 - val_loss: 0.1565 - val_accuracy: 0.9311 - 23s/epoch - 427ms/step\n",
            "Epoch 19/20\n",
            "53/53 - 23s - loss: 0.2222 - accuracy: 0.9121 - val_loss: 0.1454 - val_accuracy: 0.9454 - 23s/epoch - 428ms/step\n",
            "Epoch 20/20\n",
            "53/53 - 23s - loss: 0.2107 - accuracy: 0.9097 - val_loss: 0.1787 - val_accuracy: 0.9311 - 23s/epoch - 427ms/step\n",
            "Training time: -475.9606759548187\n"
          ]
        }
      ]
    },
    {
      "cell_type": "code",
      "source": [
        "(loss, accuracy) = custom_vgg_model.evaluate(x_test, y_test , batch_size=10, verbose=2)\n",
        "\n",
        "print(\"[INFO] loss={:.4f}, accuracy: {:.4f}%\".format(loss,accuracy * 100))"
      ],
      "metadata": {
        "id": "LO0wu_CaZ8Y0",
        "colab": {
          "base_uri": "https://localhost:8080/"
        },
        "outputId": "b754cddd-806a-40e2-dc88-b4a1a195c7ef"
      },
      "execution_count": null,
      "outputs": [
        {
          "output_type": "stream",
          "name": "stdout",
          "text": [
            "91/91 - 18s - loss: 0.2474 - accuracy: 0.9037 - 18s/epoch - 198ms/step\n",
            "[INFO] loss=0.2474, accuracy: 90.3654%\n"
          ]
        }
      ]
    },
    {
      "cell_type": "code",
      "source": [
        "import matplotlib.pyplot as plt\n",
        "\n",
        "train_loss = hist.history['loss']\n",
        "val_loss = hist.history['val_loss']\n",
        "train_acc = hist.history['accuracy']\n",
        "val_acc = hist.history['val_accuracy']\n",
        "xc = range(20)\n",
        "\n",
        "plt.figure(1,figsize=(7,5))\n",
        "plt.plot(xc,train_loss)\n",
        "plt.plot(xc,val_loss)\n",
        "plt.xlabel('num of Epochs')\n",
        "plt.ylabel('loss')\n",
        "plt.title('train_loss vs val_loss')\n",
        "plt.grid(True)\n",
        "plt.legend(['train','val'])\n",
        "plt.style.use(['ggplot'])\n",
        "\n",
        "plt.figure(2,figsize=(7,5))\n",
        "plt.plot(xc,train_acc)\n",
        "plt.plot(xc,val_acc)\n",
        "plt.xlabel('num of Epochs')\n",
        "plt.ylabel('accuracy')\n",
        "plt.title('train_acc vs val_acc')\n",
        "plt.grid(True)\n",
        "plt.legend(['train','val'],loc=4)\n",
        "plt.style.use(['classic'])"
      ],
      "metadata": {
        "colab": {
          "base_uri": "https://localhost:8080/",
          "height": 687
        },
        "id": "RtmYQDaWhacz",
        "outputId": "52a47e6d-a9c9-415c-add8-20f9fbe97a60"
      },
      "execution_count": null,
      "outputs": [
        {
          "output_type": "display_data",
          "data": {
            "text/plain": [
              "<Figure size 504x360 with 1 Axes>"
            ],
            "image/png": "[encoded data removed]"
          },
          "metadata": {
            "needs_background": "light"
          }
        },
        {
          "output_type": "display_data",
          "data": {
            "text/plain": [
              "<Figure size 504x360 with 1 Axes>"
            ],
            "image/png": "[encoded data removed]"
          },
          "metadata": {}
        }
      ]
    },
    {
      "cell_type": "code",
      "source": [
        ""
      ],
      "metadata": {
        "id": "bTylGnhdhsO3"
      },
      "execution_count": null,
      "outputs": []
    }
  ]
}